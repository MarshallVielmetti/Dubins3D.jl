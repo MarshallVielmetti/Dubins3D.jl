{
 "cells": [
  {
   "cell_type": "code",
   "execution_count": 1,
   "id": "dd58ac2c",
   "metadata": {},
   "outputs": [
    {
     "name": "stderr",
     "output_type": "stream",
     "text": [
      "\u001b[32m\u001b[1m  Activating\u001b[22m\u001b[39m project at `~/Documents/repos/Dubins3D.jl/example`\n"
     ]
    }
   ],
   "source": [
    "using Pkg\n",
    "Pkg.activate(\".\")"
   ]
  },
  {
   "cell_type": "code",
   "execution_count": 2,
   "id": "fc079c0f",
   "metadata": {},
   "outputs": [],
   "source": [
    "include(\"../src/Dubins3D.jl\")\n",
    "using Revise\n",
    "using .Dubins3D"
   ]
  },
  {
   "cell_type": "code",
   "execution_count": 3,
   "id": "4a7f6ca3",
   "metadata": {},
   "outputs": [],
   "source": [
    "using StaticArrays, LinearAlgebra"
   ]
  },
  {
   "cell_type": "code",
   "execution_count": 4,
   "id": "35f88d59",
   "metadata": {},
   "outputs": [
    {
     "name": "stdout",
     "output_type": "stream",
     "text": [
      "  0.073047 seconds (381.87 k allocations: 18.879 MiB, 99.86% compilation time)\n",
      "  0.000006 seconds (6 allocations: 832 bytes)\n"
     ]
    },
    {
     "data": {
      "text/plain": [
       "true"
      ]
     },
     "metadata": {},
     "output_type": "display_data"
    }
   ],
   "source": [
    "qi = [0.0, 0.0, 0.0, 0.0, 0.0]\n",
    "qf = [1.0, 1.0, 1.0, 0.0, 0.0]\n",
    "turning_radius = 1.0\n",
    "pitch_limits = [-π/4, π/4]\n",
    "\n",
    "@time maneuver = DubinsManeuver3D(qi, qf, turning_radius, pitch_limits)\n",
    "result = Vector{DubinsManeuver2D}(undef, 2)\n",
    "@time cc = Dubins3D.try_to_construct!(result, maneuver, 10.0)"
   ]
  },
  {
   "cell_type": "code",
   "execution_count": 5,
   "id": "92b2642c",
   "metadata": {},
   "outputs": [
    {
     "name": "stdout",
     "output_type": "stream",
     "text": [
      "  0.003409 seconds (71 allocations: 3.438 KiB, 99.25% compilation time)\n",
      "  0.000011 seconds (6 allocations: 256 bytes)\n",
      "  0.000005 seconds (6 allocations: 256 bytes)\n",
      "  0.000010 seconds (6 allocations: 256 bytes)\n",
      "  0.000005 seconds (6 allocations: 256 bytes)\n"
     ]
    },
    {
     "data": {
      "text/plain": [
       "Main.Dubins3D.DubinsStruct(6.283185307179586, 2.0000000000000004, 6.283185307179586, 7.283185307179586, \"RSL\")"
      ]
     },
     "metadata": {},
     "output_type": "display_data"
    }
   ],
   "source": [
    "q2i = @SVector [0.0, 0.0, 0.0]\n",
    "q2f = @SVector [1.0, 0.0, 0.0]\n",
    "rhomin = 0.5\n",
    "pitchmax = @SVector [-pi/4, pi/4]\n",
    "\n",
    "@time mm = DubinsManeuver2D(q2i, q2f, rhomin=rhomin)\n",
    "@time lsl = Dubins3D._LSL(mm)\n",
    "@time rsr = Dubins3D._RSR(mm)\n",
    "@time lsr = Dubins3D._LSR(mm, pitchmax)\n",
    "@time rsl = Dubins3D._RSL(mm, pitchmax)"
   ]
  },
  {
   "cell_type": "code",
   "execution_count": 6,
   "id": "949b4316",
   "metadata": {},
   "outputs": [
    {
     "name": "stdout",
     "output_type": "stream",
     "text": [
      "  0.000009 seconds (19 allocations: 992 bytes)\n"
     ]
    },
    {
     "data": {
      "text/plain": [
       "DubinsManeuver2D([0.0, 0.0, 0.0], [1.0, 0.0, 0.0], 0.5, Main.Dubins3D.DubinsStruct(0.0, 2.0, 0.0, 1.0, \"LSL\"))"
      ]
     },
     "metadata": {},
     "output_type": "display_data"
    }
   ],
   "source": [
    "qvi = @SVector [0.0, 0.0, 0.0]\n",
    "qvf = @SVector [1.0, 0.0, 0.0]\n",
    "rhomin = 0.5\n",
    "pitchlims = @SVector [-π/4, π/4]\n",
    "@time v = Dubins3D.Vertical(qvi, qvf, rhomin, pitchlims)"
   ]
  },
  {
   "cell_type": "code",
   "execution_count": 10,
   "id": "bebd33f0",
   "metadata": {},
   "outputs": [
    {
     "name": "stdout",
     "output_type": "stream",
     "text": [
      "  0.000040 seconds (294 allocations: 39.078 KiB)\n",
      "maneuver = DubinsManeuver3D([0.0, 0.0, 0.0, 0.0, 0.0], [10.0, 1.0, 1.0, 0.0, 0.0], 1.0, [-0.7853981633974483, 0.7853981633974483], DubinsManeuver2D[DubinsManeuver2D([0.0, 0.0, 0.0], [10.0, 1.0, 0.0], 1.4118213950851644, Main.Dubins3D.DubinsStruct(0.10110341798244019, 6.916506211909455, 0.10110341798244019, 10.050351386460907, \"LSR\")), DubinsManeuver2D([0.0, 0.0, 0.0], [10.050351386460907, 1.0, 0.0], 1.4166179307620148, Main.Dubins3D.DubinsStruct(0.10059061287730511, 6.928792475205033, 0.10059061287730511, 10.100448590641033, \"LSR\"))], 10.10044859064103)\n",
      "  0.000059 seconds (3 allocations: 39.188 KiB)\n"
     ]
    },
    {
     "data": {
      "text/plain": [
       "1000-element Vector{SVector{5, Float64}}:\n",
       " [0.0, 0.0, 0.0, 0.0, 0.0]\n",
       " [0.01011038689646604, 3.620189994633628e-5, 3.6079937355704135e-5, 0.007161297703334159, 0.0071371108117714134]\n",
       " [0.02021974033636972, 0.0001447983672936806, 0.000144317911578255, 0.014322230623522616, 0.014274221623542827]\n",
       " [0.030327027180043375, 0.00032576170805725046, 0.0003247084092270754, 0.021482433996001034, 0.02141133243531424]\n",
       " [0.04043121492143628, 0.0005790457772233524, 0.0005772422415467823, 0.028641543093366886, 0.028548443247085654]\n",
       " [0.050531272004492034, 0.0009045859961849199, 0.0009019065449350838, 0.03579919324395797, 0.035685554058857066]\n",
       " [0.060626168139008944, 0.0013022993771338051, 0.0012986847815979908, 0.04295501985042812, 0.04282266487062848]\n",
       " [0.07071487461581177, 0.0017720845543979127, 0.0017675567403921898, 0.05010865840831911, 0.0499597756823999]\n",
       " [0.08079636462106361, 0.002313821822700446, 0.0023084985378548856, 0.05725974452462777, 0.05709688649417131]\n",
       " [0.09086961354954742, 0.0029273731823188545, 0.0029214826194201766, 0.06440791393636763, 0.06423399730594272]\n",
       " ⋮\n",
       " [9.919203635378937, 0.9976861781773047, 0.9976915014621496, 0.05725974452462726, 0.05709688649417213]\n",
       " [9.929285125384189, 0.9982279154456072, 0.9982324432596126, 0.050108658408319046, 0.04995977568240065]\n",
       " [9.939373831860992, 0.9986977006228714, 0.9987013152184068, 0.042955019850427406, 0.04282266487062916]\n",
       " [9.949468727995507, 0.9990954140038205, 0.9990980934550696, 0.03579919324395789, 0.03568555405885768]\n",
       " [9.959568785078565, 0.9994209542227821, 0.9994227577584578, 0.028641543093366445, 0.02854844324708708]\n",
       " [9.969672972819957, 0.9996742382919479, 0.9996752915907775, 0.021482433996000944, 0.021411332435315594]\n",
       " [9.979780259663631, 0.9998552016327116, 0.9998556820884263, 0.014322230623522253, 0.01427422162354322]\n",
       " [9.989889613103536, 0.999963798100059, 0.9999639200626492, 0.007161297703333319, 0.007137110811771735]\n",
       " [10.0, 1.0000000000000053, 1.0000000000000047, 2.498001805406602e-16, 1.1379786002407855e-15]"
      ]
     },
     "metadata": {},
     "output_type": "display_data"
    }
   ],
   "source": [
    "qi = [0.0, 0.0, 0.0, 0.0, 0.0]\n",
    "qf = [10.0, 1.0, 1.0, 0.0, 0.0]\n",
    "turning_radius = 1.0\n",
    "pitch_limits = [-pi/4, pi/4]\n",
    "\n",
    "@time maneuver = DubinsManeuver3D(qi, qf, turning_radius, pitch_limits)\n",
    "@show maneuver\n",
    "@time samples = compute_sampling(maneuver)"
   ]
  },
  {
   "cell_type": "code",
   "execution_count": 5,
   "id": "6e9eb93b",
   "metadata": {},
   "outputs": [],
   "source": [
    "qi = [0.0, 0.0, 0.0, 0.0, 0.0]\n",
    "qf = [10.0, 10.0, 10.0, 0.0, 0.0]\n",
    "\n",
    "turning_radius = 10.0\n",
    "pitch_limits = [-pi/4, pi/4]\n",
    "\n",
    "maneuver = DubinsManeuver3D(qi, qf, turning_radius, pitch_limits)\n",
    "samples = compute_sampling(maneuver)\n",
    "\n",
    "path = reduce(hcat, samples)\n",
    "\n",
    "using Plots\n",
    "plot(path[1, :], path[2, :], path[3, :], label=\"Dubins Path\")\n",
    "\n",
    "for p in eachcol(path)\n",
    "    if p[4] > π || p[4] < -π\n",
    "        @show p\n",
    "    end\n",
    "end"
   ]
  },
  {
   "cell_type": "code",
   "execution_count": null,
   "id": "b69cae11",
   "metadata": {},
   "outputs": [],
   "source": []
  }
 ],
 "metadata": {
  "kernelspec": {
   "display_name": "Julia 1.11.4",
   "language": "julia",
   "name": "julia-1.11"
  },
  "language_info": {
   "file_extension": ".jl",
   "mimetype": "application/julia",
   "name": "julia",
   "version": "1.11.4"
  }
 },
 "nbformat": 4,
 "nbformat_minor": 5
}
